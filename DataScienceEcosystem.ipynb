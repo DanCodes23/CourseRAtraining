{
 "cells": [
  {
   "cell_type": "raw",
   "id": "5b8750e5-f1f3-4a5b-b00b-0245d4f8fc15",
   "metadata": {},
   "source": [
    "Exercise 2: Create markdown cell with title of the notebook. Create a markdown cell with the title \"Data Science Tools and Ecosystem\" using H1 style heading"
   ]
  },
  {
   "cell_type": "markdown",
   "id": "07f26c4a-27cd-4524-85f5-c8803336f6c0",
   "metadata": {},
   "source": [
    "# Data Science Tools and Ecosystem"
   ]
  },
  {
   "cell_type": "raw",
   "id": "4cf147b0-32cf-4c6f-8025-b921ee2a60a9",
   "metadata": {},
   "source": [
    "Exercise 3 - Create a markdown cell for an introduction. Write an introductory sentence about the notebook such as the follows: \"In this notebook, Data Science Tools and Ecosystem are summarized.\""
   ]
  },
  {
   "cell_type": "markdown",
   "id": "366bb6bd-c831-43cb-a16f-6ca02f82b375",
   "metadata": {},
   "source": [
    "This is a notebook which summarizes some data science tools and ecosystems."
   ]
  },
  {
   "cell_type": "raw",
   "id": "6a4b3d05-115e-416f-8165-b5b8fa420347",
   "metadata": {},
   "source": [
    "Exercise 10 - Insert a markdown cell to list Objectives. Below the introduction cell created in Exercise 3, insert a new markdown cell to list the objectives that this notebook covered (i.e. some of the key takeaways from the course). In this new cell start with an introductory line titled: Objectives: in bold font. Then using an unordered list (bullets) indicate 3 to 5 items covered in this notebook, such as List popular languages for Data Science"
   ]
  },
  {
   "cell_type": "markdown",
   "id": "73b02497-c054-4995-a859-f3e34f2003d9",
   "metadata": {},
   "source": [
    "**Objectives:**\n",
    "- List popular languages used by data scientists.\n",
    "- List some of the libraries available to data scientists.\n",
    "- List open source development environments.\n",
    "- Understanding how execute arithmatic functions using python."
   ]
  },
  {
   "cell_type": "raw",
   "id": "ae5e2f2f-a03e-47cc-a6ef-97bb40220121",
   "metadata": {},
   "source": [
    "Exercise 4 - Create a markdown cell to list data science languages. Start the cell with an overview line such as: Some of the popular languages that Data Scientists use are: Then create an ordered list (i.e. numbered) listing 3 (or more) commonly used languages for data science."
   ]
  },
  {
   "cell_type": "markdown",
   "id": "26c7622e-6b3e-4db9-ac0a-2a3aba193adf",
   "metadata": {},
   "source": [
    "Some of the most popular languages used by data scientists include:\n",
    "1. Python\n",
    "2. R\n",
    "3. C++\n",
    "4. SQL"
   ]
  },
  {
   "cell_type": "raw",
   "id": "9cbb7aa4-210f-456b-8a77-181234fd01a8",
   "metadata": {},
   "source": [
    "Exercise 5 - Create a markdown cell to list data science libraries. Add an overview line to the cell like: Some of the commonly used libraries used by Data Scientists include: Below this line add an ordered list listing 3 (or more) commonly used libraries in data science."
   ]
  },
  {
   "cell_type": "markdown",
   "id": "992a60d2-582d-42a2-a366-640cc2b0a3d2",
   "metadata": {},
   "source": [
    "Commonly used data science libraries include:\n",
    "1. Matplotlib\n",
    "2. NumPy\n",
    "3. Pandas\n",
    "4. Seaborn"
   ]
  },
  {
   "cell_type": "raw",
   "id": "90c53956-a812-4448-9bee-1a2e68a8176f",
   "metadata": {},
   "source": [
    "Exercise 6 - Create a markdown cell with a table of Data Science tools. The subsequent three rows in the table should indicate three development environment open source tools used in data science."
   ]
  },
  {
   "cell_type": "markdown",
   "id": "1e1dd538-26ac-4c0f-9aaa-6f46e4fc74c5",
   "metadata": {},
   "source": [
    "| Data Science Tools |\n",
    "| ------------------ |\n",
    "| Jupyter Notebook |\n",
    "| Jupyer Lab |\n",
    "| Spyder |"
   ]
  },
  {
   "cell_type": "raw",
   "id": "c592319a-1a73-4d7c-b9a2-e7661800d9bc",
   "metadata": {},
   "source": [
    "Exercise 7 - Create a markdown cell introducing arithmetic expression examples. Add a line in this cell with H3 style heading with text like: Below are a few examples of evaluating arithmetic expressions in Python."
   ]
  },
  {
   "cell_type": "markdown",
   "id": "95df1289-022a-4f1d-89dd-fbb52e3c622a",
   "metadata": {},
   "source": [
    "### Below are some examples of arithmetic expressions evaluated in Python."
   ]
  },
  {
   "cell_type": "raw",
   "id": "b57dd88f-201b-4404-ab4b-9f16861a8d2f",
   "metadata": {},
   "source": [
    "Exercise 8 - Create a code cell to multiply and add numbers. In this code cell evaluate the expression (3*4)+5. Insert a comment line before the expression to explain the operation e.g.  This a simple arithmetic expression to mutiply then add integers. Then execute the cell to ensure the expression returns the expected output of 17."
   ]
  },
  {
   "cell_type": "code",
   "execution_count": 1,
   "id": "b35ea658-e75a-43d9-ba7e-fcaa63fe2e49",
   "metadata": {},
   "outputs": [
    {
     "data": {
      "text/plain": [
       "17"
      ]
     },
     "execution_count": 1,
     "metadata": {},
     "output_type": "execute_result"
    }
   ],
   "source": [
    "# This is a simple arithmetic expression to multiply then add integers.\n",
    "(3*4)+5"
   ]
  },
  {
   "cell_type": "raw",
   "id": "79392bb7-6444-400a-8a91-17dc7eb689f1",
   "metadata": {},
   "source": [
    "Exercise 9 - Create a code cell to convert minutes to hours. In this code cell write an expression that converts 200 minutes into hours. Insert a comment line before the expression to explain the operation e.g.  This will convert 200 minutes to hours by diving by 60. Run the cell to evaluate the expression."
   ]
  },
  {
   "cell_type": "code",
   "execution_count": 3,
   "id": "9bf637d8-d040-4382-a97a-3d5784a42fa9",
   "metadata": {},
   "outputs": [
    {
     "data": {
      "text/plain": [
       "3.3333333333333335"
      ]
     },
     "execution_count": 3,
     "metadata": {},
     "output_type": "execute_result"
    }
   ],
   "source": [
    "# below function is designed to covert minutes into hours. Divinding 200 minutes by 60 will give the desired output.\n",
    "(200 / 60)"
   ]
  },
  {
   "cell_type": "raw",
   "id": "0cce0aa5-e50f-4c6b-badd-df29a1cd6c8a",
   "metadata": {},
   "source": [
    "Exercise 11 - Create a markdown cell to indicate the Author's name. In this markdown cell include the following text \"Author\" in H2 style heading. Include your name as regular text below the word Author."
   ]
  },
  {
   "cell_type": "markdown",
   "id": "554c403e-1912-4140-9cfd-6e96019aafc9",
   "metadata": {},
   "source": [
    "## Author\n",
    "Daniel Schnittler"
   ]
  }
 ],
 "metadata": {
  "kernelspec": {
   "display_name": "Python 3 (ipykernel)",
   "language": "python",
   "name": "python3"
  },
  "language_info": {
   "codemirror_mode": {
    "name": "ipython",
    "version": 3
   },
   "file_extension": ".py",
   "mimetype": "text/x-python",
   "name": "python",
   "nbconvert_exporter": "python",
   "pygments_lexer": "ipython3",
   "version": "3.11.9"
  }
 },
 "nbformat": 4,
 "nbformat_minor": 5
}
